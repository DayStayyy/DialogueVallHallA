{
 "cells": [
  {
   "cell_type": "code",
   "execution_count": 28,
   "metadata": {},
   "outputs": [],
   "source": [
    "# Importing the PIL library\n",
    "from PIL import Image, ImageDraw, ImageFont\n",
    "import time\n",
    "import cv2\n",
    "import numpy as np\n",
    "from IPython import display\n",
    "import glob\n",
    "import os\n",
    "import re\n"
   ]
  },
  {
   "cell_type": "code",
   "execution_count": 3,
   "metadata": {},
   "outputs": [],
   "source": [
    "# Open an Image\n",
    "img = Image.open('Images/Background_Screen.png')\n"
   ]
  },
  {
   "cell_type": "code",
   "execution_count": 4,
   "metadata": {},
   "outputs": [],
   "source": [
    "# Call draw Method to add 2D graphics in an image\n",
    "I1 = ImageDraw.Draw(img)\n"
   ]
  },
  {
   "cell_type": "code",
   "execution_count": 5,
   "metadata": {},
   "outputs": [],
   "source": [
    "# Choose a font\n",
    "font = ImageFont.truetype('Fonts/va-11-hall-a-6px-non-mono.ttf')\n",
    "# font = ImageFont.truetype('Fonts/va-11-hall-a-6px.ttf')\n",
    "# font = ImageFont.truetype('Fonts/va-11-hall-a-cyr-10px.ttf')"
   ]
  },
  {
   "cell_type": "code",
   "execution_count": 6,
   "metadata": {},
   "outputs": [],
   "source": [
    "x= 100\n",
    "y= 200\n",
    "\n",
    "# Add Text to an image\n",
    "I1.text((x, y), \"Bonjour, l'interview va commencer\",font=font )\n"
   ]
  },
  {
   "cell_type": "code",
   "execution_count": 7,
   "metadata": {},
   "outputs": [],
   "source": [
    "def write_text(text, x, y, pathFont, sizeFont=None):\n",
    "    if sizeFont : \n",
    "        font = ImageFont.truetype(pathFont, sizeFont)\n",
    "    else:\n",
    "        font = ImageFont.truetype(pathFont)\n",
    "    I1.text((x, y), text, font=font)"
   ]
  },
  {
   "cell_type": "code",
   "execution_count": 8,
   "metadata": {},
   "outputs": [],
   "source": [
    "write_text(\"Bonjour, l'interview va commencer\", 100, 220, 'Fonts/va-11-hall-a-6px.ttf')\n",
    "write_text(\"Bonjour, l'interview va commencer\", 100, 240, 'Fonts/va-11-hall-a-cyr-10px.ttf')"
   ]
  },
  {
   "cell_type": "code",
   "execution_count": 9,
   "metadata": {},
   "outputs": [],
   "source": [
    "# Display edited image\n",
    "img.show()\n"
   ]
  },
  {
   "cell_type": "code",
   "execution_count": 29,
   "metadata": {},
   "outputs": [],
   "source": [
    "def writeLetterByLetter(text, x, y, pathFont, timeToDisplay, sizeFont=None):\n",
    "    timeToDisplay = timeToDisplay/len(text)\n",
    "    img.save(f'Results/{0}.png')\n",
    "    for i, letter in enumerate(text):\n",
    "        write_text(letter, x, y, pathFont, sizeFont)\n",
    "        x += 5\n",
    "        display.display(img)\n",
    "        img.save(f'Results/{i+1}.png')\n",
    "        time.sleep(timeToDisplay)\n",
    "        display.clear_output(wait=True)\n",
    "        \n"
   ]
  },
  {
   "cell_type": "code",
   "execution_count": 44,
   "metadata": {},
   "outputs": [],
   "source": [
    "def imagesToVideo(pathImages, pathVideo, fps):\n",
    "    img_array = []\n",
    "    for filename in sorted(glob.glob(pathImages), key=os.path.getmtime):\n",
    "        print(filename)\n",
    "        img = cv2.imread(filename)\n",
    "        height, width, layers = img.shape\n",
    "        size = (width,height)\n",
    "        img_array.append(img)\n",
    "    out = cv2.VideoWriter(pathVideo,cv2.VideoWriter_fourcc(*'DIVX'), fps, size)\n",
    "    for i in img_array :\n",
    "        out.write(i)\n",
    "    out.release()"
   ]
  },
  {
   "cell_type": "code",
   "execution_count": 31,
   "metadata": {},
   "outputs": [
    {
     "data": {
      "image/png": "[encoded data removed]",
      "text/plain": [
       "<PIL.PngImagePlugin.PngImageFile image mode=RGB size=643x314>"
      ]
     },
     "metadata": {},
     "output_type": "display_data"
    }
   ],
   "source": [
    "img = Image.open('Images/Background_Screen.png')\n",
    "I1 = ImageDraw.Draw(img)\n",
    "writeLetterByLetter(\"Bonjour, l'interview va commencer\", 100, 230, 'Fonts/va-11-hall-a-6px.ttf' , 0.1)"
   ]
  },
  {
   "cell_type": "code",
   "execution_count": 45,
   "metadata": {},
   "outputs": [
    {
     "name": "stdout",
     "output_type": "stream",
     "text": [
      "Results\\0.png\n",
      "Results\\1.png\n",
      "Results\\2.png\n",
      "Results\\3.png\n",
      "Results\\4.png\n",
      "Results\\5.png\n",
      "Results\\6.png\n",
      "Results\\7.png\n",
      "Results\\8.png\n",
      "Results\\9.png\n",
      "Results\\10.png\n",
      "Results\\11.png\n",
      "Results\\12.png\n",
      "Results\\13.png\n",
      "Results\\14.png\n",
      "Results\\15.png\n",
      "Results\\16.png\n",
      "Results\\17.png\n",
      "Results\\18.png\n",
      "Results\\19.png\n",
      "Results\\20.png\n",
      "Results\\21.png\n",
      "Results\\22.png\n",
      "Results\\23.png\n",
      "Results\\24.png\n",
      "Results\\25.png\n",
      "Results\\26.png\n",
      "Results\\27.png\n",
      "Results\\28.png\n",
      "Results\\29.png\n",
      "Results\\30.png\n",
      "Results\\31.png\n",
      "Results\\32.png\n",
      "Results\\33.png\n"
     ]
    }
   ],
   "source": [
    "# use imagesToVideo to create a vide\n",
    "imagesToVideo('Results/*.png', 'Results/Video.mp4', 10)\n"
   ]
  },
  {
   "cell_type": "code",
   "execution_count": null,
   "metadata": {},
   "outputs": [],
   "source": [
    "def writeLetterByLetterOnArray(text, x, y, pathFont, sizeFont=None):\n",
    "    array_img = []\n",
    "    for i, letter in enumerate(text):\n",
    "        write_text(letter, x, y, pathFont, sizeFont)\n",
    "        x += 5\n",
    "        # transform image to cv2 format\n",
    "        array_img.append(np.array(img))\n",
    "    return array_img"
   ]
  },
  {
   "cell_type": "code",
   "execution_count": null,
   "metadata": {},
   "outputs": [],
   "source": [
    "img = Image.open('Images/Background_Screen.png')\n",
    "I1 = ImageDraw.Draw(img)\n",
    "array_img = writeLetterByLetterOnArray(\"Bonjour, l'interview va commencer\", 100, 230, 'Fonts/va-11-hall-a-6px.ttf')\n"
   ]
  },
  {
   "cell_type": "code",
   "execution_count": 35,
   "metadata": {},
   "outputs": [
    {
     "data": {
      "text/plain": [
       "[['Gillian', '\"Bonjour, je m\\'appelle Gillian et vous ?\"'],\n",
       " ['Jill', '\"Bonjour, Gillian, je m\\'appelle Jill.\"'],\n",
       " ['Gillian', '\"Enchanté de faire votre connaissance Jill.\"'],\n",
       " ['Jill', '\"Enchanté de faire votre connaissance Gillian.\"'],\n",
       " ['Gillian', '\"Comment allez-vous Jill ?\"']]"
      ]
     },
     "execution_count": 35,
     "metadata": {},
     "output_type": "execute_result"
    }
   ],
   "source": [
    "# get dialogues \n",
    "DIALOGUES_PATH = 'Dialogues'\n",
    "with open(os.path.join(DIALOGUES_PATH, 'test.csv'), 'r', encoding='utf-8') as f:\n",
    "    all = f.read()\n",
    "    lines = all.split('\\n')\n",
    "\n",
    "Dialogue = [line.split(',') for line in lines]\n",
    "Dialogue\n",
    "\n",
    "script = [re.split(r',(?=\")', line) for line in all.split('\\n')]\n",
    "script\n"
   ]
  },
  {
   "cell_type": "code",
   "execution_count": 36,
   "metadata": {},
   "outputs": [],
   "source": [
    "class Character :\n",
    "    path_assets = os.path.join('Assets', 'Characters')\n",
    "    mainImages = {}\n",
    "    bodyPartVariantesImages = {}\n",
    "    def __init__(self, name, firstMainImageName = None):\n",
    "        self.name = name\n",
    "        self._path_assets = os.path.join(self._path_assets, f'{name}')\n",
    "        if firstMainImageName:\n",
    "            self.getMainImage(firstMainImageName)\n",
    "            self.mainImage = firstMainImageName\n",
    "        \n",
    "    \n",
    "    def getMainImage(self, image_name):\n",
    "        if image_name not in self.mainImages:\n",
    "            try : \n",
    "                self.mainImages[image_name] = Image.open(os.path.join(self._path_assets, f'{image_name}.png'))\n",
    "            except FileNotFoundError:\n",
    "                self.mainImages[image_name] = None\n",
    "        return self.mainImages[image_name]\n",
    "    \n",
    "    def getBodyPartVariantes(self, image_name):\n",
    "        if image_name not in self.bodyPartVariantesImages:\n",
    "            try : \n",
    "                self.bodyPartVariantesImages[image_name] = Image.open(os.path.join(self._path_assets, f'{image_name}.png'))\n",
    "            except FileNotFoundError:\n",
    "                self.bodyPartVariantesImages[image_name] = None\n",
    "        return self.bodyPartVariantesImages[image_name]\n"
   ]
  },
  {
   "cell_type": "code",
   "execution_count": null,
   "metadata": {},
   "outputs": [],
   "source": [
    "class Dialogue :\n",
    "    \"\"\"\n",
    "    This class is a iterable object \n",
    "    This class receive a script, the script is a string of lines with the following format :\n",
    "    \"CharacterName,Text,TimeToDisplay,MainImageName,BodyPartVariantesName\"\n",
    "    The CharacterName is the name of the character\n",
    "    The Text is the text to display, is under quotes\n",
    "    The TimeToDisplay is the time to display the text, is optional\n",
    "    The MainImageName is the name of the main image of the character, is optional\n",
    "    The BodyPartVariantesName is the name of the body part variete image of the character, is optional\n",
    "\n",
    "    The format of optional parameters is :\n",
    "    time:TimeToDisplay \n",
    "    main:MainImageName\n",
    "    body:BodyPartVarianteName\n",
    "\n",
    "    The result of the each iteration is a tuple of 4 elements :\n",
    "    - The first element is the character name\n",
    "    - The second element is the text to display\n",
    "    - The third element is a image of the character\n",
    "    - The fourth element is the time to display the text\n",
    "    \"\"\"\n",
    "\n",
    "    def __iter__(self, script):\n",
    "        self.script = [re.split(r',(?=\")', line) for line in script.split('\\n')]\n",
    "        return self\n",
    "\n",
    "    def __next__(self):\n",
    "        for line in script :\n",
    "            if line[0] == '' : continue\n",
    "            character = line[0]\n",
    "            text = line[1]\n",
    "            time = None\n",
    "            mainImage = None\n",
    "            bodyPartVariantes = None\n",
    "            if len(line) > 2:\n",
    "                for option in line[2:]:\n",
    "                    if option.startswith('time:'):\n",
    "                        time = float(option[5:])\n",
    "                    elif option.startswith('main:'):\n",
    "                        mainImage = option[5:]\n",
    "                    elif option.startswith('body:'):\n",
    "                        bodyPartVariantes = option[5:]\n",
    "            character = Character(character)\n",
    "            if mainImage:\n",
    "                character.getMainImage(mainImage)\n",
    "            if bodyPartVariantes:\n",
    "                character.getBodyPartVariantes(bodyPartVariantes)\n",
    "            raise (character, text, time)\n",
    "        raise StopIteration"
   ]
  },
  {
   "cell_type": "code",
   "execution_count": null,
   "metadata": {},
   "outputs": [],
   "source": []
  }
 ],
 "metadata": {
  "kernelspec": {
   "display_name": "Python 3",
   "language": "python",
   "name": "python3"
  },
  "language_info": {
   "codemirror_mode": {
    "name": "ipython",
    "version": 3
   },
   "file_extension": ".py",
   "mimetype": "text/x-python",
   "name": "python",
   "nbconvert_exporter": "python",
   "pygments_lexer": "ipython3",
   "version": "3.10.9"
  },
  "orig_nbformat": 4,
  "vscode": {
   "interpreter": {
    "hash": "6f00d0dc72e5ef5db406f91a8217a78ca0ddae4abaf9b7cfe36051d1e3c94c10"
   }
  }
 },
 "nbformat": 4,
 "nbformat_minor": 2
}
