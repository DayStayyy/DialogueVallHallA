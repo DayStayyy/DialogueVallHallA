{
 "cells": [
  {
   "cell_type": "code",
   "execution_count": 2,
   "metadata": {},
   "outputs": [],
   "source": [
    "# Importing the PIL library\n",
    "from PIL import Image, ImageDraw, ImageFont\n",
    "import time\n",
    "import cv2\n",
    "import numpy as np\n",
    "from IPython import display\n",
    "import glob\n",
    "import os\n",
    "import re\n"
   ]
  },
  {
   "cell_type": "code",
   "execution_count": 14,
   "metadata": {},
   "outputs": [
    {
     "ename": "FileNotFoundError",
     "evalue": "[Errno 2] No such file or directory: 'Images/Background_Screen.png'",
     "output_type": "error",
     "traceback": [
      "\u001b[1;31m---------------------------------------------------------------------------\u001b[0m",
      "\u001b[1;31mFileNotFoundError\u001b[0m                         Traceback (most recent call last)",
      "Cell \u001b[1;32mIn[14], line 2\u001b[0m\n\u001b[0;32m      1\u001b[0m \u001b[39m# Open an Image\u001b[39;00m\n\u001b[1;32m----> 2\u001b[0m img \u001b[39m=\u001b[39m Image\u001b[39m.\u001b[39;49mopen(\u001b[39m'\u001b[39;49m\u001b[39mImages/Background_Screen.png\u001b[39;49m\u001b[39m'\u001b[39;49m)\n",
      "File \u001b[1;32mc:\\Users\\dayst\\AppData\\Local\\Programs\\Python\\Python310\\lib\\site-packages\\PIL\\Image.py:3227\u001b[0m, in \u001b[0;36mopen\u001b[1;34m(fp, mode, formats)\u001b[0m\n\u001b[0;32m   3224\u001b[0m     filename \u001b[39m=\u001b[39m fp\n\u001b[0;32m   3226\u001b[0m \u001b[39mif\u001b[39;00m filename:\n\u001b[1;32m-> 3227\u001b[0m     fp \u001b[39m=\u001b[39m builtins\u001b[39m.\u001b[39;49mopen(filename, \u001b[39m\"\u001b[39;49m\u001b[39mrb\u001b[39;49m\u001b[39m\"\u001b[39;49m)\n\u001b[0;32m   3228\u001b[0m     exclusive_fp \u001b[39m=\u001b[39m \u001b[39mTrue\u001b[39;00m\n\u001b[0;32m   3230\u001b[0m \u001b[39mtry\u001b[39;00m:\n",
      "\u001b[1;31mFileNotFoundError\u001b[0m: [Errno 2] No such file or directory: 'Images/Background_Screen.png'"
     ]
    }
   ],
   "source": [
    "# Open an Image\n",
    "img = Image.open('Images/Background_Screen.png')\n"
   ]
  },
  {
   "cell_type": "code",
   "execution_count": null,
   "metadata": {},
   "outputs": [],
   "source": [
    "# Call draw Method to add 2D graphics in an image\n",
    "I1 = ImageDraw.Draw(img)\n"
   ]
  },
  {
   "cell_type": "code",
   "execution_count": null,
   "metadata": {},
   "outputs": [],
   "source": [
    "# Choose a font\n",
    "font = ImageFont.truetype('Fonts/va-11-hall-a-6px-non-mono.ttf')\n",
    "# font = ImageFont.truetype('Fonts/va-11-hall-a-6px.ttf')\n",
    "# font = ImageFont.truetype('Fonts/va-11-hall-a-cyr-10px.ttf')"
   ]
  },
  {
   "cell_type": "code",
   "execution_count": null,
   "metadata": {},
   "outputs": [],
   "source": [
    "x= 100\n",
    "y= 200\n",
    "\n",
    "# Add Text to an image\n",
    "I1.text((x, y), \"Bonjour, l'interview va commencer\",font=font )\n"
   ]
  },
  {
   "cell_type": "code",
   "execution_count": null,
   "metadata": {},
   "outputs": [],
   "source": [
    "def write_text(text, x, y, pathFont, sizeFont=None):\n",
    "    if sizeFont : \n",
    "        font = ImageFont.truetype(pathFont, sizeFont)\n",
    "    else:\n",
    "        font = ImageFont.truetype(pathFont)\n",
    "    I1.text((x, y), text, font=font)"
   ]
  },
  {
   "cell_type": "code",
   "execution_count": 7,
   "metadata": {},
   "outputs": [
    {
     "ename": "NameError",
     "evalue": "name 'write_text' is not defined",
     "output_type": "error",
     "traceback": [
      "\u001b[1;31m---------------------------------------------------------------------------\u001b[0m",
      "\u001b[1;31mNameError\u001b[0m                                 Traceback (most recent call last)",
      "Cell \u001b[1;32mIn[7], line 1\u001b[0m\n\u001b[1;32m----> 1\u001b[0m write_text(\u001b[39m\"\u001b[39m\u001b[39mBonjour, l\u001b[39m\u001b[39m'\u001b[39m\u001b[39minterview va commencer\u001b[39m\u001b[39m\"\u001b[39m, \u001b[39m100\u001b[39m, \u001b[39m220\u001b[39m, \u001b[39m'\u001b[39m\u001b[39mFonts/va-11-hall-a-6px.ttf\u001b[39m\u001b[39m'\u001b[39m)\n\u001b[0;32m      2\u001b[0m write_text(\u001b[39m\"\u001b[39m\u001b[39mBonjour, l\u001b[39m\u001b[39m'\u001b[39m\u001b[39minterview va commencer\u001b[39m\u001b[39m\"\u001b[39m, \u001b[39m100\u001b[39m, \u001b[39m240\u001b[39m, \u001b[39m'\u001b[39m\u001b[39mFonts/va-11-hall-a-cyr-10px.ttf\u001b[39m\u001b[39m'\u001b[39m)\n",
      "\u001b[1;31mNameError\u001b[0m: name 'write_text' is not defined"
     ]
    }
   ],
   "source": [
    "write_text(\"Bonjour, l'interview va commencer\", 100, 220, 'Fonts/va-11-hall-a-6px.ttf')\n",
    "write_text(\"Bonjour, l'interview va commencer\", 100, 240, 'Fonts/va-11-hall-a-cyr-10px.ttf')"
   ]
  },
  {
   "cell_type": "code",
   "execution_count": null,
   "metadata": {},
   "outputs": [],
   "source": [
    "# Display edited image\n",
    "img.show()\n"
   ]
  },
  {
   "cell_type": "code",
   "execution_count": null,
   "metadata": {},
   "outputs": [],
   "source": [
    "def writeLetterByLetter(text, x, y, pathFont, timeToDisplay, sizeFont=None):\n",
    "    timeToDisplay = timeToDisplay/len(text)\n",
    "    img.save(f'Results/{0}.png')\n",
    "    for i, letter in enumerate(text):\n",
    "        write_text(letter, x, y, pathFont, sizeFont)\n",
    "        x += 5\n",
    "        display.display(img)\n",
    "        img.save(f'Results/{i+1}.png')\n",
    "        time.sleep(timeToDisplay)\n",
    "        display.clear_output(wait=True)\n",
    "        \n"
   ]
  },
  {
   "cell_type": "code",
   "execution_count": null,
   "metadata": {},
   "outputs": [],
   "source": [
    "def imagesToVideo(pathImages, pathVideo, fps):\n",
    "    img_array = []\n",
    "    for filename in sorted(glob.glob(pathImages), key=os.path.getmtime):\n",
    "        print(filename)\n",
    "        img = cv2.imread(filename)\n",
    "        height, width, layers = img.shape\n",
    "        size = (width,height)\n",
    "        img_array.append(img)\n",
    "    out = cv2.VideoWriter(pathVideo,cv2.VideoWriter_fourcc(*'DIVX'), fps, size)\n",
    "    for i in img_array :\n",
    "        out.write(i)\n",
    "    out.release()"
   ]
  },
  {
   "cell_type": "code",
   "execution_count": null,
   "metadata": {},
   "outputs": [],
   "source": [
    "img = Image.open('Images/Background_Screen.png')\n",
    "I1 = ImageDraw.Draw(img)\n",
    "writeLetterByLetter(\"Bonjour, l'interview va commencer\", 100, 230, 'Fonts/va-11-hall-a-6px.ttf' , 0.1)"
   ]
  },
  {
   "cell_type": "code",
   "execution_count": null,
   "metadata": {},
   "outputs": [
    {
     "name": "stdout",
     "output_type": "stream",
     "text": [
      "Results\\0.png\n",
      "Results\\1.png\n",
      "Results\\2.png\n",
      "Results\\3.png\n",
      "Results\\4.png\n",
      "Results\\5.png\n",
      "Results\\6.png\n",
      "Results\\7.png\n",
      "Results\\8.png\n",
      "Results\\9.png\n",
      "Results\\10.png\n",
      "Results\\11.png\n",
      "Results\\12.png\n",
      "Results\\13.png\n",
      "Results\\14.png\n",
      "Results\\15.png\n",
      "Results\\16.png\n",
      "Results\\17.png\n",
      "Results\\18.png\n",
      "Results\\19.png\n",
      "Results\\20.png\n",
      "Results\\21.png\n",
      "Results\\22.png\n",
      "Results\\23.png\n",
      "Results\\24.png\n",
      "Results\\25.png\n",
      "Results\\26.png\n",
      "Results\\27.png\n",
      "Results\\28.png\n",
      "Results\\29.png\n",
      "Results\\30.png\n",
      "Results\\31.png\n",
      "Results\\32.png\n",
      "Results\\33.png\n"
     ]
    }
   ],
   "source": [
    "# use imagesToVideo to create a vide\n",
    "imagesToVideo('Results/*.png', 'Results/Video.mp4', 10)\n"
   ]
  },
  {
   "cell_type": "code",
   "execution_count": null,
   "metadata": {},
   "outputs": [],
   "source": [
    "def writeLetterByLetterOnArray(text, x, y, pathFont, sizeFont=None):\n",
    "    array_img = []\n",
    "    for i, letter in enumerate(text):\n",
    "        write_text(letter, x, y, pathFont, sizeFont)\n",
    "        x += 5\n",
    "        # transform image to cv2 format\n",
    "        array_img.append(np.array(img))\n",
    "    return array_img"
   ]
  },
  {
   "cell_type": "code",
   "execution_count": null,
   "metadata": {},
   "outputs": [],
   "source": [
    "img = Image.open('Images/Background_Screen.png')\n",
    "I1 = ImageDraw.Draw(img)\n",
    "array_img = writeLetterByLetterOnArray(\"Bonjour, l'interview va commencer\", 100, 230, 'Fonts/va-11-hall-a-6px.ttf')\n"
   ]
  },
  {
   "cell_type": "code",
   "execution_count": 5,
   "metadata": {},
   "outputs": [
    {
     "data": {
      "text/plain": [
       "[['BackgroundImage:Background_Screen,DefaultTimeToDisplay:5,MainImage:Gillian:main,MainImage:Jill:main'],\n",
       " ['Gillian', '\"Bonjour, je m\\'appelle Gillian et vous ?\",time:8'],\n",
       " ['Jill', '\"Bonjour, Gillian, je m\\'appelle Jill.\"'],\n",
       " ['Gillian', '\"Enchanté de faire votre connaissance Jill.\"'],\n",
       " ['Jill', '\"Enchanté de faire votre connaissance Gillian.\",time:4'],\n",
       " ['Gillian', '\"Comment allez-vous Jill ?\"']]"
      ]
     },
     "execution_count": 5,
     "metadata": {},
     "output_type": "execute_result"
    }
   ],
   "source": [
    "# get dialogues \n",
    "DIALOGUES_PATH = 'Dialogues'\n",
    "with open(os.path.join(DIALOGUES_PATH, 'test.csv'), 'r', encoding='utf-8') as f:\n",
    "    all = f.read()\n",
    "    lines = all.split('\\n')\n",
    "\n",
    "Dialogue = [line.split(',') for line in lines]\n",
    "Dialogue\n",
    "\n",
    "script = [re.split(r',(?=\")', line) for line in all.split('\\n')]\n",
    "script\n"
   ]
  },
  {
   "cell_type": "code",
   "execution_count": null,
   "metadata": {},
   "outputs": [],
   "source": [
    "class Variation :\n",
    "    def __init__(self, pathToAssets, x, y):\n",
    "        self.VariationsImages = {}\n",
    "        self.pathToAssets = pathToAssets\n",
    "        self.x = x\n",
    "        self.y = y\n",
    "\n",
    "    def addVariation(self, name):\n",
    "        try : \n",
    "            self.VariationsImages[name] = Image.open(os.path.join(self.pathToAssets, f'{name}.png'))\n",
    "        except FileNotFoundError:\n",
    "            self.VariationsImages[name] = None\n",
    "\n",
    "            "
   ]
  },
  {
   "cell_type": "code",
   "execution_count": null,
   "metadata": {},
   "outputs": [],
   "source": [
    "class Character :\n",
    "    path_assets = os.path.join('Assets', 'Characters')\n",
    "    mainImages = {}\n",
    "    bodyPartVariantesImages = {}\n",
    "    imageConsructor = None\n",
    "\n",
    "    def __init__(self, name, firstMainImageName = None):\n",
    "        self.name = name\n",
    "        self._path_assets = os.path.join(self._path_assets, f'{name}')\n",
    "        if firstMainImageName:\n",
    "            self.addMainImage(firstMainImageName)\n",
    "            self.principaleImage = firstMainImageName\n",
    "        \n",
    "    \n",
    "    def addMainImage(self, image_name):\n",
    "        if image_name not in self.mainImages:\n",
    "            try : \n",
    "                self.mainImages[image_name] = Image.open(os.path.join(self.path_assets, f'{image_name}.png'))\n",
    "            except FileNotFoundError:\n",
    "                self.mainImages[image_name] = None\n",
    "        return self.mainImages[image_name]\n",
    "    \n",
    "    def addBodyPartVariantes(self, variantesName, x, y, pathToAssets):\n",
    "        if variantesName not in self.bodyPartVariantesImages:\n",
    "            pathToAssets = os.path.join(self.path_assets, pathToAssets)\n",
    "            self.bodyPartVariantesImages[variantesName] = Variations(variantesName, pathToAssets)\n",
    "\n",
    "    def addVariation(self, name, variationName):\n",
    "        if name in self.bodyPartVariantesImages:\n",
    "            self.bodyPartVariantesImages[name].addVariation(variationName)\n",
    "        else:\n",
    "            raise Exception(f'Variation {name} does not exist')\n",
    "        \n",
    "    def createCharacterImage(self, mainImageName, bodyPartVariantes):\n",
    "        if mainImageName in self.mainImages:\n",
    "            img = self.mainImages[mainImageName]\n",
    "            I1 = ImageDraw.Draw(img)\n",
    "            for bodyPart, variation in bodyPartVariantes.items():\n",
    "                if bodyPart in self.bodyPartVariantesImages:\n",
    "                    if variation in self.bodyPartVariantesImages[bodyPart].VariationsImages:\n",
    "                        img.paste(self.bodyPartVariantesImages[bodyPart].VariationsImages[variation], (self.bodyPartVariantesImages[bodyPart].x, self.bodyPartVariantesImages[bodyPart].y), self.bodyPartVariantesImages[bodyPart].VariationsImages[variation])\n",
    "            return img\n",
    "        else:\n",
    "            raise Exception(f'Main image {mainImageName} does not exist')\n"
   ]
  },
  {
   "cell_type": "code",
   "execution_count": 15,
   "metadata": {},
   "outputs": [],
   "source": [
    "class Dialogue :\n",
    "    \"\"\"\n",
    "    This class is a iterable object \n",
    "    This class receive a script, the script is a string of lines with the following format :\n",
    "    The first line is a header line, the header contains different parameters :\n",
    "    - MainImage:NameOfCharacter:NameOfMainImage\n",
    "    - DefaultTimeToDisplay:Time\n",
    "    - BackgroundImage:NameOfBackgroundImage\n",
    "    - VariationCoordinates:NameOfCharacter:NameOfBodyPart:Coordinates:path -> Coordinates format is \"x,y\", quotes are important, path is optional\n",
    "\n",
    "    \"CharacterName,Text and optional parameters\"\n",
    "    - The CharacterName is the name of the character\n",
    "    - The Text is the text to display, is under quotes\n",
    "    - The TimeToDisplay is the time to display the text, is optional\n",
    "    - The MainImageName is the name of the main image of the character, is optional\n",
    "    - The BodyPartVariantesName is the name of the body part variete image of the character, is optional\n",
    "\n",
    "    The format of optional parameters is :\n",
    "    - time:TimeToDisplay \n",
    "    - main:MainImageName\n",
    "    - body:BodyPartVarianteName\n",
    "\n",
    "    The result of the each iteration is a tuple of 4 elements :\n",
    "    - The first element is the character name\n",
    "    - The second element is the text to display\n",
    "    - The third element is a image of the character\n",
    "    - The fourth element is the time to display the text\n",
    "    \"\"\"\n",
    "\n",
    "    characters = {}\n",
    "    defaultTimeToDisplay = 0.5\n",
    "    \n",
    "    def __iter__(self, script):\n",
    "        self.script = [re.split(r',(?=\")', line) for line in script.split('\\n')]\n",
    "        self.getScriptParemeters()\n",
    "        self.script.pop(0)\n",
    "        return self\n",
    "\n",
    "    def __next__(self):\n",
    "        for line in script :\n",
    "            if line[0] == '' : continue\n",
    "            CharacterName, Text, *optionalParameters = line\n",
    "            Text = Text[1:-1] # remove quotes\n",
    "            if CharacterName not in self.characters:\n",
    "                self.characters[CharacterName] = Character(CharacterName)\n",
    "            mainImageName = self.characters[CharacterName].principaleImage\n",
    "            bodyPartVariante = []\n",
    "            timeToDisplay = self.defaultTimeToDisplay\n",
    "            for i in optionalParameters :\n",
    "                if i.startswith('time'):\n",
    "                    timeToDisplay = float(i.split(':')[1])\n",
    "                elif i.startswith('main'):\n",
    "                    mainImageName = i.split(':')[1]\n",
    "                elif i.startswith('body'):\n",
    "                    bodyPartVariante.append(i.split(':')[1])\n",
    "            finalImage = self.characters[CharacterName].createCharacterImage(mainImageName, bodyPartVariante)\n",
    "            return CharacterName, Text, finalImage, timeToDisplay\n",
    "        raise StopIteration\n",
    "    \n",
    "    def getScriptParemeters(self):\n",
    "        for parameters in self.script[0] :\n",
    "            if parameters == '' : continue\n",
    "            elif parameters.startswith('MainImage'):\n",
    "                splitParameters = parameters.split(':')\n",
    "                if len(splitParameters) != 3 : continue\n",
    "                self.characters[splitParameters[1]] = Character(splitParameters[1], splitParameters[2])\n",
    "            elif parameters.startswith('DefaultTimeToDisplay'):\n",
    "                splitParameters = parameters.split(':')\n",
    "                if len(splitParameters) != 2 : continue\n",
    "                self.defaultTimeToDisplay = float(splitParameters[1])\n",
    "            elif parameters.startswith('BackgroundImage'):\n",
    "                splitParameters = parameters.split(':')\n",
    "                if len(splitParameters) != 2 : continue\n",
    "                self.backgroundImage = splitParameters[1]\n",
    "            elif parameters.startswith('VariationCoordinates'):\n",
    "                splitParameters = parameters.split(':')\n",
    "                if len(splitParameters) >= 4 and len(splitParameters) <= 5: continue\n",
    "                if splitParameters[1] not in self.characters:\n",
    "                    self.characters[splitParameters[1]] = Character(splitParameters[1])\n",
    "                path = None\n",
    "                if len(splitParameters) == 5:\n",
    "                    path = splitParameters[4]\n",
    "                x, y = splitParameters[3].split(',')\n",
    "                self.characters[splitParameters[1]].addBodyPartVariantes(splitParameters[2], x, y, path)\n",
    "\n",
    "\n",
    "    "
   ]
  },
  {
   "cell_type": "code",
   "execution_count": 16,
   "metadata": {},
   "outputs": [],
   "source": [
    "class CreatePicture :\n",
    "    \n",
    "    def __init__(self, path) :\n",
    "        self.pathToAssets = path\n",
    "\n",
    "\n",
    "    def insertImage(self, imageToModify,imageToInsert, x, y):\n",
    "        imageToModify.paste(imageToInsert, (x, y), imageToInsert)\n",
    "        return imageToModify\n",
    "    \n",
    "    "
   ]
  },
  {
   "cell_type": "code",
   "execution_count": 23,
   "metadata": {},
   "outputs": [
    {
     "data": {
      "image/png": "[encoded data removed]",
      "text/plain": [
       "<PIL.PngImagePlugin.PngImageFile image mode=RGBA size=176x215>"
      ]
     },
     "metadata": {},
     "output_type": "display_data"
    },
    {
     "data": {
      "image/png": "[encoded data removed]",
      "text/plain": [
       "<PIL.PngImagePlugin.PngImageFile image mode=RGBA size=176x215>"
      ]
     },
     "metadata": {},
     "output_type": "display_data"
    },
    {
     "data": {
      "image/png": "[encoded data removed]",
      "text/plain": [
       "<PIL.PngImagePlugin.PngImageFile image mode=RGBA size=176x215>"
      ]
     },
     "metadata": {},
     "output_type": "display_data"
    }
   ],
   "source": [
    "imageGill = Image.open(os.path.join(\"assets\", \"Characters\", \"Gillian\", \"main.png\"))\n",
    "mouthOpen = Image.open(os.path.join(\"assets\", \"Characters\", \"Gillian\", \"mouth\", \"Open.png\"))\n",
    "mouthClose = Image.open(os.path.join(\"assets\", \"Characters\", \"Gillian\", \"mouth\", \"Close.png\"))\n",
    "mouthSemi_close = Image.open(os.path.join(\"assets\", \"Characters\", \"Gillian\", \"mouth\", \"Semi_close.png\"))\n",
    "imageGill.paste(mouthOpen, (63, 83), mouthOpen)\n",
    "display.display(imageGill)\n",
    "imageGill.paste(mouthClose, (63, 83), mouthClose)\n",
    "display.display(imageGill)\n",
    "imageGill.paste(mouthSemi_close, (63, 83), mouthSemi_close)\n",
    "display.display(imageGill)\n",
    "# imageGill.show()"
   ]
  }
 ],
 "metadata": {
  "kernelspec": {
   "display_name": "Python 3",
   "language": "python",
   "name": "python3"
  },
  "language_info": {
   "codemirror_mode": {
    "name": "ipython",
    "version": 3
   },
   "file_extension": ".py",
   "mimetype": "text/x-python",
   "name": "python",
   "nbconvert_exporter": "python",
   "pygments_lexer": "ipython3",
   "version": "3.10.9"
  },
  "orig_nbformat": 4,
  "vscode": {
   "interpreter": {
    "hash": "6f00d0dc72e5ef5db406f91a8217a78ca0ddae4abaf9b7cfe36051d1e3c94c10"
   }
  }
 },
 "nbformat": 4,
 "nbformat_minor": 2
}
